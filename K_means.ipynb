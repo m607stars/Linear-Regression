{
  "nbformat": 4,
  "nbformat_minor": 0,
  "metadata": {
    "colab": {
      "name": "K-means.ipynb",
      "provenance": [],
      "authorship_tag": "ABX9TyM/ed/wXZG/N9g2zR+OXXRp",
      "include_colab_link": true
    },
    "kernelspec": {
      "name": "python3",
      "display_name": "Python 3"
    }
  },
  "cells": [
    {
      "cell_type": "markdown",
      "metadata": {
        "id": "view-in-github",
        "colab_type": "text"
      },
      "source": [
        "<a href=\"https://colab.research.google.com/github/m607stars/Machine-Learning-Algorithms/blob/master/K_means.ipynb\" target=\"_parent\"><img src=\"https://colab.research.google.com/assets/colab-badge.svg\" alt=\"Open In Colab\"/></a>"
      ]
    },
    {
      "cell_type": "markdown",
      "metadata": {
        "id": "7B8gZC81MnzZ"
      },
      "source": [
        "# Importing Libraries and data"
      ]
    },
    {
      "cell_type": "code",
      "metadata": {
        "id": "B904sF6IKuxU"
      },
      "source": [
        "#We import the necessary libraries \n",
        "\n",
        "import numpy as np\n",
        "import pandas as pd \n",
        "import matplotlib.pyplot as plt  \n",
        "\n",
        "\n",
        "from sklearn.cluster import KMeans    #To implement KMeans\n",
        "from math import sqrt\n",
        "from sklearn.datasets.samples_generator import make_blobs   #To generate random datapoints "
      ],
      "execution_count": null,
      "outputs": []
    },
    {
      "cell_type": "markdown",
      "metadata": {
        "id": "oJcMJ7i2cyiU"
      },
      "source": [
        "# Making Random Dataset "
      ]
    },
    {
      "cell_type": "code",
      "metadata": {
        "id": "6OPGbc0lMMgA",
        "colab": {
          "base_uri": "https://localhost:8080/",
          "height": 282
        },
        "outputId": "9aaf904e-ea8d-40a2-f85b-0e48d57ca47f"
      },
      "source": [
        "#We give the centroids as 4, and no. of datapoints as 300\n",
        "#We also take the standard deviation of clusters as 0.9 so that the datapoints are not easily separable\n",
        "X, y_true = make_blobs(n_samples=300, centers=4,\n",
        "                       cluster_std=0.90, random_state=0)    \n",
        "plt.scatter(X[:, 0], X[:, 1], s=50)                  #We plot the datapoints "
      ],
      "execution_count": null,
      "outputs": [
        {
          "output_type": "execute_result",
          "data": {
            "text/plain": [
              "<matplotlib.collections.PathCollection at 0x7f1831814198>"
            ]
          },
          "metadata": {
            "tags": []
          },
          "execution_count": 5
        },
        {
          "output_type": "display_data",
          "data": {
            "image/png": "[encoded data removed]",
            "text/plain": [
              "<Figure size 432x288 with 1 Axes>"
            ]
          },
          "metadata": {
            "tags": [],
            "needs_background": "light"
          }
        }
      ]
    },
    {
      "cell_type": "markdown",
      "metadata": {
        "id": "LIPMQ58tc8O_"
      },
      "source": [
        "# Finding Optimum Clusters \n",
        "We need to first find the optimum clusters as we can't always guess how many classes would be there in dataset. So we do this by finding the inertia of the KMeans algorithm applied by setting the value of groups from 1 to 20. For larger datasets, one can even do the calculations for as large as 50 different classes. After getting the inertia of all the different number of clusters, we  then see the maximum percent change for all the values starting from 1. "
      ]
    },
    {
      "cell_type": "code",
      "metadata": {
        "id": "gZ_ofEQxOaNz",
        "colab": {
          "base_uri": "https://localhost:8080/",
          "height": 340
        },
        "outputId": "d2a58c07-b410-4940-8206-7ddfcd44d8d8"
      },
      "source": [
        "inertia_values = []    #Initialize an empty list \n",
        "\n",
        "#For finding the inertia of KMeans for different number of clusters (here 20)\n",
        "for i in range (1,20):\n",
        "  m = KMeans(n_clusters=i)     #store  KMeans in m\n",
        "  m.fit(X)                     #Fit the data\n",
        "  inertia_values.append(m.inertia_)   #Append the inertia into the list inertia_values\n",
        "\n",
        "#print Inertia_values\n",
        "inertia_values"
      ],
      "execution_count": null,
      "outputs": [
        {
          "output_type": "execute_result",
          "data": {
            "text/plain": [
              "[3079.6849468163646,\n",
              " 1429.3077585140034,\n",
              " 795.3236124003193,\n",
              " 454.3778700005048,\n",
              " 401.4544706029594,\n",
              " 351.7148170504679,\n",
              " 309.23746248987425,\n",
              " 279.85245512702625,\n",
              " 241.49375625904983,\n",
              " 219.6856269579497,\n",
              " 200.67444954725406,\n",
              " 184.25231038542174,\n",
              " 171.5930017567952,\n",
              " 158.8476669434603,\n",
              " 149.0759406083931,\n",
              " 140.5961919422749,\n",
              " 132.12385577599244,\n",
              " 121.74902338340388,\n",
              " 116.71731896922452]"
            ]
          },
          "metadata": {
            "tags": []
          },
          "execution_count": 8
        }
      ]
    },
    {
      "cell_type": "code",
      "metadata": {
        "id": "Cl6euiuaUGqT",
        "colab": {
          "base_uri": "https://localhost:8080/",
          "height": 638
        },
        "outputId": "c08e98ab-c341-473d-8f67-c343700a81e0"
      },
      "source": [
        "#We Convert the inertia_values into dataframe for plottinf it easily\n",
        "df = pd.DataFrame({'Cluster':range(1,20),'inertia_values':inertia_values})  \n",
        "df"
      ],
      "execution_count": null,
      "outputs": [
        {
          "output_type": "execute_result",
          "data": {
            "text/html": [
              "<div>\n",
              "<style scoped>\n",
              "    .dataframe tbody tr th:only-of-type {\n",
              "        vertical-align: middle;\n",
              "    }\n",
              "\n",
              "    .dataframe tbody tr th {\n",
              "        vertical-align: top;\n",
              "    }\n",
              "\n",
              "    .dataframe thead th {\n",
              "        text-align: right;\n",
              "    }\n",
              "</style>\n",
              "<table border=\"1\" class=\"dataframe\">\n",
              "  <thead>\n",
              "    <tr style=\"text-align: right;\">\n",
              "      <th></th>\n",
              "      <th>Cluster</th>\n",
              "      <th>inertia_values</th>\n",
              "    </tr>\n",
              "  </thead>\n",
              "  <tbody>\n",
              "    <tr>\n",
              "      <th>0</th>\n",
              "      <td>1</td>\n",
              "      <td>3079.684947</td>\n",
              "    </tr>\n",
              "    <tr>\n",
              "      <th>1</th>\n",
              "      <td>2</td>\n",
              "      <td>1429.307759</td>\n",
              "    </tr>\n",
              "    <tr>\n",
              "      <th>2</th>\n",
              "      <td>3</td>\n",
              "      <td>795.323612</td>\n",
              "    </tr>\n",
              "    <tr>\n",
              "      <th>3</th>\n",
              "      <td>4</td>\n",
              "      <td>454.377870</td>\n",
              "    </tr>\n",
              "    <tr>\n",
              "      <th>4</th>\n",
              "      <td>5</td>\n",
              "      <td>401.454471</td>\n",
              "    </tr>\n",
              "    <tr>\n",
              "      <th>5</th>\n",
              "      <td>6</td>\n",
              "      <td>351.714817</td>\n",
              "    </tr>\n",
              "    <tr>\n",
              "      <th>6</th>\n",
              "      <td>7</td>\n",
              "      <td>309.237462</td>\n",
              "    </tr>\n",
              "    <tr>\n",
              "      <th>7</th>\n",
              "      <td>8</td>\n",
              "      <td>279.852455</td>\n",
              "    </tr>\n",
              "    <tr>\n",
              "      <th>8</th>\n",
              "      <td>9</td>\n",
              "      <td>241.493756</td>\n",
              "    </tr>\n",
              "    <tr>\n",
              "      <th>9</th>\n",
              "      <td>10</td>\n",
              "      <td>219.685627</td>\n",
              "    </tr>\n",
              "    <tr>\n",
              "      <th>10</th>\n",
              "      <td>11</td>\n",
              "      <td>200.674450</td>\n",
              "    </tr>\n",
              "    <tr>\n",
              "      <th>11</th>\n",
              "      <td>12</td>\n",
              "      <td>184.252310</td>\n",
              "    </tr>\n",
              "    <tr>\n",
              "      <th>12</th>\n",
              "      <td>13</td>\n",
              "      <td>171.593002</td>\n",
              "    </tr>\n",
              "    <tr>\n",
              "      <th>13</th>\n",
              "      <td>14</td>\n",
              "      <td>158.847667</td>\n",
              "    </tr>\n",
              "    <tr>\n",
              "      <th>14</th>\n",
              "      <td>15</td>\n",
              "      <td>149.075941</td>\n",
              "    </tr>\n",
              "    <tr>\n",
              "      <th>15</th>\n",
              "      <td>16</td>\n",
              "      <td>140.596192</td>\n",
              "    </tr>\n",
              "    <tr>\n",
              "      <th>16</th>\n",
              "      <td>17</td>\n",
              "      <td>132.123856</td>\n",
              "    </tr>\n",
              "    <tr>\n",
              "      <th>17</th>\n",
              "      <td>18</td>\n",
              "      <td>121.749023</td>\n",
              "    </tr>\n",
              "    <tr>\n",
              "      <th>18</th>\n",
              "      <td>19</td>\n",
              "      <td>116.717319</td>\n",
              "    </tr>\n",
              "  </tbody>\n",
              "</table>\n",
              "</div>"
            ],
            "text/plain": [
              "    Cluster  inertia_values\n",
              "0         1     3079.684947\n",
              "1         2     1429.307759\n",
              "2         3      795.323612\n",
              "3         4      454.377870\n",
              "4         5      401.454471\n",
              "5         6      351.714817\n",
              "6         7      309.237462\n",
              "7         8      279.852455\n",
              "8         9      241.493756\n",
              "9        10      219.685627\n",
              "10       11      200.674450\n",
              "11       12      184.252310\n",
              "12       13      171.593002\n",
              "13       14      158.847667\n",
              "14       15      149.075941\n",
              "15       16      140.596192\n",
              "16       17      132.123856\n",
              "17       18      121.749023\n",
              "18       19      116.717319"
            ]
          },
          "metadata": {
            "tags": []
          },
          "execution_count": 9
        }
      ]
    },
    {
      "cell_type": "code",
      "metadata": {
        "id": "BKPzlZmPV2RF",
        "colab": {
          "base_uri": "https://localhost:8080/",
          "height": 282
        },
        "outputId": "adfabb41-9575-4cb0-95ef-170f5430388b"
      },
      "source": [
        "#We plot the inertia_values\n",
        "plt.scatter(df['Cluster'],df['inertia_values'])"
      ],
      "execution_count": null,
      "outputs": [
        {
          "output_type": "execute_result",
          "data": {
            "text/plain": [
              "<matplotlib.collections.PathCollection at 0x7f1831683710>"
            ]
          },
          "metadata": {
            "tags": []
          },
          "execution_count": 11
        },
        {
          "output_type": "display_data",
          "data": {
            "image/png": "[encoded data removed]",
            "text/plain": [
              "<Figure size 432x288 with 1 Axes>"
            ]
          },
          "metadata": {
            "tags": [],
            "needs_background": "light"
          }
        }
      ]
    },
    {
      "cell_type": "markdown",
      "metadata": {
        "id": "VbA-IGpLYd2t"
      },
      "source": [
        "We have optimum 4 clusters since the maximum difference in the slope of the curve occurs at x=4 i.e. 4 clusters. We can interpret this as the max change of the first derivative of the curve i.e. the second derivative must be zero"
      ]
    },
    {
      "cell_type": "markdown",
      "metadata": {
        "id": "mF7RnSGTe330"
      },
      "source": [
        "# K-Means Implementation using sklearn library"
      ]
    },
    {
      "cell_type": "code",
      "metadata": {
        "id": "sa8J_VJWfc5T",
        "colab": {
          "base_uri": "https://localhost:8080/",
          "height": 255
        },
        "outputId": "954117a8-0929-4d8e-e074-14947045579d"
      },
      "source": [
        "#We now implement the K-means Clustering algorithm for 4 clusters as obtained from the previous cell \n",
        "\n",
        "model = KMeans(n_clusters=4)   #store  KMeans in model\n",
        "model.fit(X)                   #Fit the data\n",
        "y_pred = model.predict(X)      #Predict the Y-values\n",
        "\n",
        "y_pred"
      ],
      "execution_count": null,
      "outputs": [
        {
          "output_type": "execute_result",
          "data": {
            "text/plain": [
              "array([0, 1, 3, 1, 2, 2, 0, 3, 1, 1, 0, 1, 3, 1, 2, 3, 3, 2, 0, 0, 2, 2,\n",
              "       3, 0, 0, 0, 2, 3, 0, 3, 1, 1, 3, 1, 1, 1, 1, 1, 0, 2, 3, 0, 1, 3,\n",
              "       0, 0, 1, 0, 1, 2, 0, 2, 1, 2, 2, 0, 1, 0, 1, 2, 1, 3, 1, 0, 0, 0,\n",
              "       1, 2, 1, 0, 3, 3, 1, 0, 0, 1, 0, 3, 2, 1, 2, 3, 2, 2, 1, 3, 2, 3,\n",
              "       1, 1, 3, 2, 1, 0, 0, 3, 2, 2, 3, 0, 1, 2, 1, 2, 3, 2, 2, 3, 1, 3,\n",
              "       0, 0, 2, 1, 2, 3, 1, 2, 2, 3, 0, 2, 0, 2, 2, 2, 2, 0, 2, 0, 1, 0,\n",
              "       0, 2, 1, 0, 0, 1, 0, 1, 1, 0, 3, 0, 3, 0, 1, 3, 1, 1, 1, 3, 3, 3,\n",
              "       2, 0, 1, 0, 2, 3, 1, 3, 3, 2, 3, 0, 0, 3, 2, 3, 3, 1, 2, 3, 0, 1,\n",
              "       2, 2, 3, 0, 2, 3, 0, 0, 3, 3, 3, 3, 2, 1, 0, 0, 3, 3, 0, 0, 0, 3,\n",
              "       0, 1, 3, 0, 2, 0, 3, 0, 0, 1, 3, 1, 3, 0, 3, 3, 1, 0, 0, 2, 2, 3,\n",
              "       1, 2, 2, 0, 2, 0, 0, 1, 1, 3, 3, 1, 3, 2, 0, 3, 2, 0, 1, 0, 2, 3,\n",
              "       2, 1, 1, 1, 1, 0, 0, 3, 3, 0, 2, 3, 0, 0, 3, 2, 2, 1, 3, 3, 0, 2,\n",
              "       1, 0, 3, 1, 3, 2, 2, 0, 0, 2, 2, 2, 2, 3, 1, 1, 2, 2, 3, 2, 2, 2,\n",
              "       1, 3, 1, 3, 2, 2, 1, 1, 1, 2, 2, 3, 1, 0], dtype=int32)"
            ]
          },
          "metadata": {
            "tags": []
          },
          "execution_count": 13
        }
      ]
    },
    {
      "cell_type": "code",
      "metadata": {
        "id": "N6ZOCgPAQ9qj",
        "colab": {
          "base_uri": "https://localhost:8080/",
          "height": 102
        },
        "outputId": "0ce282e5-e9dd-4f18-b085-75103a6eef15"
      },
      "source": [
        "#Count the number of y_predicted values for each class\n",
        "pd.Series(y_pred).value_counts()  "
      ],
      "execution_count": null,
      "outputs": [
        {
          "output_type": "execute_result",
          "data": {
            "text/plain": [
              "0    78\n",
              "2    75\n",
              "3    74\n",
              "1    73\n",
              "dtype: int64"
            ]
          },
          "metadata": {
            "tags": []
          },
          "execution_count": 14
        }
      ]
    },
    {
      "cell_type": "code",
      "metadata": {
        "id": "wm6x7vegV-sh",
        "colab": {
          "base_uri": "https://localhost:8080/",
          "height": 283
        },
        "outputId": "4186f2a8-90b7-4629-d5d8-be9aa35ecc55"
      },
      "source": [
        "#Plot the predicted classes and centroids of clusters \n",
        "plt.scatter(X[:, 0], X[:, 1], c=y_pred)   #plotting the data points\n",
        "centers = model.cluster_centers_          #storing the centroids in centers\n",
        "plt.scatter(centers[:, 0], centers[:, 1],color='black')   #plotting centres"
      ],
      "execution_count": null,
      "outputs": [
        {
          "output_type": "execute_result",
          "data": {
            "text/plain": [
              "<matplotlib.collections.PathCollection at 0x7fbff6726780>"
            ]
          },
          "metadata": {
            "tags": []
          },
          "execution_count": 51
        },
        {
          "output_type": "display_data",
          "data": {
            "image/png": "[encoded data removed]",
            "text/plain": [
              "<Figure size 432x288 with 1 Axes>"
            ]
          },
          "metadata": {
            "tags": [],
            "needs_background": "light"
          }
        }
      ]
    }
  ]
}