{
  "nbformat": 4,
  "nbformat_minor": 0,
  "metadata": {
    "colab": {
      "name": "K-means.ipynb",
      "provenance": [],
      "collapsed_sections": [],
      "authorship_tag": "ABX9TyNPPRxrP1nWZ67KG3WtCTEE",
      "include_colab_link": true
    },
    "kernelspec": {
      "name": "python3",
      "display_name": "Python 3"
    }
  },
  "cells": [
    {
      "cell_type": "markdown",
      "metadata": {
        "id": "view-in-github",
        "colab_type": "text"
      },
      "source": [
        "<a href=\"https://colab.research.google.com/github/m607stars/Machine-Learning-Algorithms/blob/master/K_means.ipynb\" target=\"_parent\"><img src=\"https://colab.research.google.com/assets/colab-badge.svg\" alt=\"Open In Colab\"/></a>"
      ]
    },
    {
      "cell_type": "markdown",
      "metadata": {
        "id": "7B8gZC81MnzZ"
      },
      "source": [
        "# Importing Libraries and data"
      ]
    },
    {
      "cell_type": "code",
      "metadata": {
        "id": "B904sF6IKuxU",
        "colab": {
          "base_uri": "https://localhost:8080/"
        },
        "outputId": "e7723c3f-9657-45cf-ef65-339226aa8109"
      },
      "source": [
        "#We import the necessary libraries \n",
        "\n",
        "import sys\n",
        "import numpy as np\n",
        "import pandas as pd \n",
        "import matplotlib.pyplot as plt  \n",
        "\n",
        "\n",
        "from sklearn.cluster import KMeans    #To implement KMeans\n",
        "from math import sqrt\n",
        "from sklearn.datasets.samples_generator import make_blobs   #To generate random datapoints "
      ],
      "execution_count": 1,
      "outputs": [
        {
          "output_type": "stream",
          "text": [
            "/usr/local/lib/python3.6/dist-packages/sklearn/utils/deprecation.py:144: FutureWarning: The sklearn.datasets.samples_generator module is  deprecated in version 0.22 and will be removed in version 0.24. The corresponding classes / functions should instead be imported from sklearn.datasets. Anything that cannot be imported from sklearn.datasets is now part of the private API.\n",
            "  warnings.warn(message, FutureWarning)\n"
          ],
          "name": "stderr"
        }
      ]
    },
    {
      "cell_type": "markdown",
      "metadata": {
        "id": "oJcMJ7i2cyiU"
      },
      "source": [
        "# Making Random Dataset "
      ]
    },
    {
      "cell_type": "code",
      "metadata": {
        "id": "6OPGbc0lMMgA",
        "colab": {
          "base_uri": "https://localhost:8080/",
          "height": 282
        },
        "outputId": "266bb551-8f1d-4caa-b67a-242c282441c8"
      },
      "source": [
        "#We give the centroids as 4, and no. of datapoints as 300\n",
        "#We also take the standard deviation of clusters as 0.9 so that the datapoints are not easily separable\n",
        "X, y_true = make_blobs(n_samples=300, centers=4,\n",
        "                       cluster_std=0.90, random_state=0)    \n",
        "plt.scatter(X[:, 0], X[:, 1], s=50)                  #We plot the datapoints "
      ],
      "execution_count": 22,
      "outputs": [
        {
          "output_type": "execute_result",
          "data": {
            "text/plain": [
              "<matplotlib.collections.PathCollection at 0x7ff08a022710>"
            ]
          },
          "metadata": {
            "tags": []
          },
          "execution_count": 22
        },
        {
          "output_type": "display_data",
          "data": {
            "image/png": "[encoded data removed]",
            "text/plain": [
              "<Figure size 432x288 with 1 Axes>"
            ]
          },
          "metadata": {
            "tags": [],
            "needs_background": "light"
          }
        }
      ]
    },
    {
      "cell_type": "markdown",
      "metadata": {
        "id": "LIPMQ58tc8O_"
      },
      "source": [
        "# Finding Optimum Clusters \n",
        "We need to first find the optimum clusters as we can't always guess how many classes would be there in dataset. So we do this by finding the inertia of the KMeans algorithm applied by setting the value of groups from 1 to 20. For larger datasets, one can even do the calculations for as large as 50 different classes. After getting the inertia of all the different number of clusters, we  then see the maximum percent change for all the values starting from 1. "
      ]
    },
    {
      "cell_type": "code",
      "metadata": {
        "id": "gZ_ofEQxOaNz",
        "colab": {
          "base_uri": "https://localhost:8080/",
          "height": 340
        },
        "outputId": "d2a58c07-b410-4940-8206-7ddfcd44d8d8"
      },
      "source": [
        "inertia_values = []    #Initialize an empty list \n",
        "\n",
        "#For finding the inertia of KMeans for different number of clusters (here 20)\n",
        "for i in range (1,20):\n",
        "  m = KMeans(n_clusters=i)     #store  KMeans in m\n",
        "  m.fit(X)                     #Fit the data\n",
        "  inertia_values.append(m.inertia_)   #Append the inertia into the list inertia_values\n",
        "\n",
        "#print Inertia_values\n",
        "inertia_values"
      ],
      "execution_count": null,
      "outputs": [
        {
          "output_type": "execute_result",
          "data": {
            "text/plain": [
              "[3079.6849468163646,\n",
              " 1429.3077585140034,\n",
              " 795.3236124003193,\n",
              " 454.3778700005048,\n",
              " 401.4544706029594,\n",
              " 351.7148170504679,\n",
              " 309.23746248987425,\n",
              " 279.85245512702625,\n",
              " 241.49375625904983,\n",
              " 219.6856269579497,\n",
              " 200.67444954725406,\n",
              " 184.25231038542174,\n",
              " 171.5930017567952,\n",
              " 158.8476669434603,\n",
              " 149.0759406083931,\n",
              " 140.5961919422749,\n",
              " 132.12385577599244,\n",
              " 121.74902338340388,\n",
              " 116.71731896922452]"
            ]
          },
          "metadata": {
            "tags": []
          },
          "execution_count": 8
        }
      ]
    },
    {
      "cell_type": "code",
      "metadata": {
        "id": "Cl6euiuaUGqT",
        "colab": {
          "base_uri": "https://localhost:8080/",
          "height": 638
        },
        "outputId": "c08e98ab-c341-473d-8f67-c343700a81e0"
      },
      "source": [
        "#We Convert the inertia_values into dataframe for plottinf it easily\n",
        "df = pd.DataFrame({'Cluster':range(1,20),'inertia_values':inertia_values})  \n",
        "df"
      ],
      "execution_count": null,
      "outputs": [
        {
          "output_type": "execute_result",
          "data": {
            "text/html": [
              "<div>\n",
              "<style scoped>\n",
              "    .dataframe tbody tr th:only-of-type {\n",
              "        vertical-align: middle;\n",
              "    }\n",
              "\n",
              "    .dataframe tbody tr th {\n",
              "        vertical-align: top;\n",
              "    }\n",
              "\n",
              "    .dataframe thead th {\n",
              "        text-align: right;\n",
              "    }\n",
              "</style>\n",
              "<table border=\"1\" class=\"dataframe\">\n",
              "  <thead>\n",
              "    <tr style=\"text-align: right;\">\n",
              "      <th></th>\n",
              "      <th>Cluster</th>\n",
              "      <th>inertia_values</th>\n",
              "    </tr>\n",
              "  </thead>\n",
              "  <tbody>\n",
              "    <tr>\n",
              "      <th>0</th>\n",
              "      <td>1</td>\n",
              "      <td>3079.684947</td>\n",
              "    </tr>\n",
              "    <tr>\n",
              "      <th>1</th>\n",
              "      <td>2</td>\n",
              "      <td>1429.307759</td>\n",
              "    </tr>\n",
              "    <tr>\n",
              "      <th>2</th>\n",
              "      <td>3</td>\n",
              "      <td>795.323612</td>\n",
              "    </tr>\n",
              "    <tr>\n",
              "      <th>3</th>\n",
              "      <td>4</td>\n",
              "      <td>454.377870</td>\n",
              "    </tr>\n",
              "    <tr>\n",
              "      <th>4</th>\n",
              "      <td>5</td>\n",
              "      <td>401.454471</td>\n",
              "    </tr>\n",
              "    <tr>\n",
              "      <th>5</th>\n",
              "      <td>6</td>\n",
              "      <td>351.714817</td>\n",
              "    </tr>\n",
              "    <tr>\n",
              "      <th>6</th>\n",
              "      <td>7</td>\n",
              "      <td>309.237462</td>\n",
              "    </tr>\n",
              "    <tr>\n",
              "      <th>7</th>\n",
              "      <td>8</td>\n",
              "      <td>279.852455</td>\n",
              "    </tr>\n",
              "    <tr>\n",
              "      <th>8</th>\n",
              "      <td>9</td>\n",
              "      <td>241.493756</td>\n",
              "    </tr>\n",
              "    <tr>\n",
              "      <th>9</th>\n",
              "      <td>10</td>\n",
              "      <td>219.685627</td>\n",
              "    </tr>\n",
              "    <tr>\n",
              "      <th>10</th>\n",
              "      <td>11</td>\n",
              "      <td>200.674450</td>\n",
              "    </tr>\n",
              "    <tr>\n",
              "      <th>11</th>\n",
              "      <td>12</td>\n",
              "      <td>184.252310</td>\n",
              "    </tr>\n",
              "    <tr>\n",
              "      <th>12</th>\n",
              "      <td>13</td>\n",
              "      <td>171.593002</td>\n",
              "    </tr>\n",
              "    <tr>\n",
              "      <th>13</th>\n",
              "      <td>14</td>\n",
              "      <td>158.847667</td>\n",
              "    </tr>\n",
              "    <tr>\n",
              "      <th>14</th>\n",
              "      <td>15</td>\n",
              "      <td>149.075941</td>\n",
              "    </tr>\n",
              "    <tr>\n",
              "      <th>15</th>\n",
              "      <td>16</td>\n",
              "      <td>140.596192</td>\n",
              "    </tr>\n",
              "    <tr>\n",
              "      <th>16</th>\n",
              "      <td>17</td>\n",
              "      <td>132.123856</td>\n",
              "    </tr>\n",
              "    <tr>\n",
              "      <th>17</th>\n",
              "      <td>18</td>\n",
              "      <td>121.749023</td>\n",
              "    </tr>\n",
              "    <tr>\n",
              "      <th>18</th>\n",
              "      <td>19</td>\n",
              "      <td>116.717319</td>\n",
              "    </tr>\n",
              "  </tbody>\n",
              "</table>\n",
              "</div>"
            ],
            "text/plain": [
              "    Cluster  inertia_values\n",
              "0         1     3079.684947\n",
              "1         2     1429.307759\n",
              "2         3      795.323612\n",
              "3         4      454.377870\n",
              "4         5      401.454471\n",
              "5         6      351.714817\n",
              "6         7      309.237462\n",
              "7         8      279.852455\n",
              "8         9      241.493756\n",
              "9        10      219.685627\n",
              "10       11      200.674450\n",
              "11       12      184.252310\n",
              "12       13      171.593002\n",
              "13       14      158.847667\n",
              "14       15      149.075941\n",
              "15       16      140.596192\n",
              "16       17      132.123856\n",
              "17       18      121.749023\n",
              "18       19      116.717319"
            ]
          },
          "metadata": {
            "tags": []
          },
          "execution_count": 9
        }
      ]
    },
    {
      "cell_type": "code",
      "metadata": {
        "id": "BKPzlZmPV2RF",
        "colab": {
          "base_uri": "https://localhost:8080/",
          "height": 282
        },
        "outputId": "adfabb41-9575-4cb0-95ef-170f5430388b"
      },
      "source": [
        "#We plot the inertia_values\n",
        "plt.scatter(df['Cluster'],df['inertia_values'])"
      ],
      "execution_count": null,
      "outputs": [
        {
          "output_type": "execute_result",
          "data": {
            "text/plain": [
              "<matplotlib.collections.PathCollection at 0x7f1831683710>"
            ]
          },
          "metadata": {
            "tags": []
          },
          "execution_count": 11
        },
        {
          "output_type": "display_data",
          "data": {
            "image/png": "[encoded data removed]",
            "text/plain": [
              "<Figure size 432x288 with 1 Axes>"
            ]
          },
          "metadata": {
            "tags": [],
            "needs_background": "light"
          }
        }
      ]
    },
    {
      "cell_type": "markdown",
      "metadata": {
        "id": "VbA-IGpLYd2t"
      },
      "source": [
        "We have optimum 4 clusters since the maximum difference in the slope of the curve occurs at x=4 i.e. 4 clusters. We can interpret this as the max change of the first derivative of the curve i.e. the second derivative must be zero"
      ]
    },
    {
      "cell_type": "markdown",
      "metadata": {
        "id": "mF7RnSGTe330"
      },
      "source": [
        "# K-Means Implementation using sklearn library"
      ]
    },
    {
      "cell_type": "code",
      "metadata": {
        "id": "sa8J_VJWfc5T",
        "colab": {
          "base_uri": "https://localhost:8080/"
        },
        "outputId": "e38f4358-c227-4c7a-e082-6f8d8b8b5256"
      },
      "source": [
        "#We now implement the K-means Clustering algorithm for 4 clusters as obtained from the previous cell \n",
        "\n",
        "model = KMeans(n_clusters=4)   #store  KMeans in model\n",
        "model.fit(X)                   #Fit the data\n",
        "y_pred = model.predict(X)      #Predict the Y-values\n",
        "\n",
        "y_pred"
      ],
      "execution_count": 23,
      "outputs": [
        {
          "output_type": "execute_result",
          "data": {
            "text/plain": [
              "array([2, 1, 0, 1, 3, 3, 2, 0, 1, 1, 2, 1, 0, 1, 3, 0, 0, 3, 2, 2, 3, 3,\n",
              "       0, 2, 2, 2, 3, 0, 2, 0, 1, 1, 0, 1, 1, 1, 1, 1, 2, 3, 0, 2, 1, 0,\n",
              "       2, 2, 1, 2, 1, 3, 2, 3, 1, 3, 3, 2, 1, 2, 1, 3, 1, 0, 1, 2, 2, 2,\n",
              "       1, 3, 1, 2, 0, 0, 1, 2, 2, 1, 2, 0, 3, 1, 3, 0, 3, 3, 1, 0, 3, 0,\n",
              "       1, 1, 0, 3, 1, 2, 2, 0, 3, 3, 0, 2, 1, 3, 1, 3, 0, 3, 3, 0, 1, 0,\n",
              "       2, 2, 3, 1, 3, 0, 1, 3, 3, 0, 2, 3, 2, 3, 3, 3, 3, 2, 3, 2, 1, 2,\n",
              "       2, 3, 1, 2, 2, 1, 2, 1, 1, 2, 0, 2, 0, 2, 1, 0, 1, 1, 1, 0, 0, 0,\n",
              "       3, 2, 1, 2, 3, 0, 1, 0, 0, 3, 0, 2, 2, 0, 3, 0, 0, 1, 3, 0, 2, 1,\n",
              "       3, 3, 0, 2, 3, 0, 2, 2, 0, 0, 0, 0, 3, 1, 2, 2, 0, 0, 2, 2, 2, 0,\n",
              "       2, 1, 0, 2, 3, 2, 0, 2, 2, 1, 0, 1, 0, 2, 0, 0, 1, 2, 2, 3, 3, 0,\n",
              "       1, 3, 3, 2, 3, 2, 2, 1, 1, 0, 0, 1, 0, 3, 2, 0, 3, 2, 1, 2, 3, 0,\n",
              "       3, 1, 1, 1, 1, 2, 2, 0, 0, 2, 3, 0, 2, 2, 0, 3, 3, 1, 0, 0, 2, 3,\n",
              "       1, 2, 0, 1, 0, 3, 3, 2, 2, 3, 3, 3, 3, 0, 1, 1, 3, 3, 0, 3, 3, 3,\n",
              "       1, 0, 1, 0, 3, 3, 1, 1, 1, 3, 3, 0, 1, 2], dtype=int32)"
            ]
          },
          "metadata": {
            "tags": []
          },
          "execution_count": 23
        }
      ]
    },
    {
      "cell_type": "code",
      "metadata": {
        "id": "N6ZOCgPAQ9qj",
        "colab": {
          "base_uri": "https://localhost:8080/"
        },
        "outputId": "0c1358a8-509c-4261-b82a-a61b08d39dc1"
      },
      "source": [
        "#Count the number of y_predicted values for each class\n",
        "pd.Series(y_pred).value_counts()  "
      ],
      "execution_count": 24,
      "outputs": [
        {
          "output_type": "execute_result",
          "data": {
            "text/plain": [
              "2    78\n",
              "3    75\n",
              "0    74\n",
              "1    73\n",
              "dtype: int64"
            ]
          },
          "metadata": {
            "tags": []
          },
          "execution_count": 24
        }
      ]
    },
    {
      "cell_type": "code",
      "metadata": {
        "id": "wm6x7vegV-sh",
        "colab": {
          "base_uri": "https://localhost:8080/",
          "height": 282
        },
        "outputId": "31bddc84-c83d-45b4-918f-b537cfb5d714"
      },
      "source": [
        "#Plot the predicted classes and centroids of clusters \n",
        "plt.scatter(X[:, 0], X[:, 1], c=y_pred)   #plotting the data points\n",
        "centers = model.cluster_centers_          #storing the centroids in centers\n",
        "plt.scatter(centers[:, 0], centers[:, 1],color='red')   #plotting centres"
      ],
      "execution_count": 26,
      "outputs": [
        {
          "output_type": "execute_result",
          "data": {
            "text/plain": [
              "<matplotlib.collections.PathCollection at 0x7ff081778f98>"
            ]
          },
          "metadata": {
            "tags": []
          },
          "execution_count": 26
        },
        {
          "output_type": "display_data",
          "data": {
            "image/png": "[encoded data removed]",
            "text/plain": [
              "<Figure size 432x288 with 1 Axes>"
            ]
          },
          "metadata": {
            "tags": [],
            "needs_background": "light"
          }
        }
      ]
    },
    {
      "cell_type": "markdown",
      "metadata": {
        "id": "SGRn42FAelE1"
      },
      "source": [
        "# Algorithm from scratch"
      ]
    },
    {
      "cell_type": "markdown",
      "metadata": {
        "id": "kZos_DkugLUF"
      },
      "source": [
        "The algorithm of k-means clustering is based on the simple premise of Euclidean distances. Initially, we need to take the no. of clusters and the dataframe from the user. \r\n",
        "\r\n",
        "Step 1 - Randomly assign 'k' centroids i.e. k = no. of clusters\r\n",
        "\r\n",
        "Step 2 - Calculate the Euclidean distance between data-points and each of the  centroids. Assign the centroid having minimum distance to the datapoint\r\n",
        "\r\n",
        "Step 3 - Calcuate mean variance\r\n",
        "\r\n",
        "Step 4 - The mean of each of the clusters are the new centorids. Repeat step 2 with these new centroids. \r\n",
        "\r\n",
        "Step 5 - Repeat the above procedure until the mean variance of the newly assigned centroids is less than the previous mean variance. \r\n",
        "\r\n",
        "Note- ALthough the algorithm does not fit that nicely as optimization is not done. The main motive was the implementation of the algo giving considerable results."
      ]
    },
    {
      "cell_type": "code",
      "metadata": {
        "id": "hbatQUtrxzBN",
        "colab": {
          "base_uri": "https://localhost:8080/",
          "height": 419
        },
        "outputId": "68695c89-f50a-42d4-a24f-6933efd117fd"
      },
      "source": [
        "# We make a pandas dataframe out of the randomly generated dataset and name it as df.\n",
        "# The columns are named x and y based on their respective coordinates.\n",
        "# Another column 'clusters' is introduced indicating the cluster the datapoint belongs to\n",
        "\n",
        "df = pd.DataFrame(X, columns = ['x', 'y']) \n",
        "df['Clusters']=np.nan\n",
        "df"
      ],
      "execution_count": 3,
      "outputs": [
        {
          "output_type": "execute_result",
          "data": {
            "text/html": [
              "<div>\n",
              "<style scoped>\n",
              "    .dataframe tbody tr th:only-of-type {\n",
              "        vertical-align: middle;\n",
              "    }\n",
              "\n",
              "    .dataframe tbody tr th {\n",
              "        vertical-align: top;\n",
              "    }\n",
              "\n",
              "    .dataframe thead th {\n",
              "        text-align: right;\n",
              "    }\n",
              "</style>\n",
              "<table border=\"1\" class=\"dataframe\">\n",
              "  <thead>\n",
              "    <tr style=\"text-align: right;\">\n",
              "      <th></th>\n",
              "      <th>x</th>\n",
              "      <th>y</th>\n",
              "      <th>Clusters</th>\n",
              "    </tr>\n",
              "  </thead>\n",
              "  <tbody>\n",
              "    <tr>\n",
              "      <th>0</th>\n",
              "      <td>0.227652</td>\n",
              "      <td>2.755707</td>\n",
              "      <td>NaN</td>\n",
              "    </tr>\n",
              "    <tr>\n",
              "      <th>1</th>\n",
              "      <td>-1.496359</td>\n",
              "      <td>7.196705</td>\n",
              "      <td>NaN</td>\n",
              "    </tr>\n",
              "    <tr>\n",
              "      <th>2</th>\n",
              "      <td>1.244684</td>\n",
              "      <td>5.497535</td>\n",
              "      <td>NaN</td>\n",
              "    </tr>\n",
              "    <tr>\n",
              "      <th>3</th>\n",
              "      <td>-0.903797</td>\n",
              "      <td>7.804642</td>\n",
              "      <td>NaN</td>\n",
              "    </tr>\n",
              "    <tr>\n",
              "      <th>4</th>\n",
              "      <td>0.879393</td>\n",
              "      <td>2.389981</td>\n",
              "      <td>NaN</td>\n",
              "    </tr>\n",
              "    <tr>\n",
              "      <th>...</th>\n",
              "      <td>...</td>\n",
              "      <td>...</td>\n",
              "      <td>...</td>\n",
              "    </tr>\n",
              "    <tr>\n",
              "      <th>295</th>\n",
              "      <td>1.932913</td>\n",
              "      <td>1.920866</td>\n",
              "      <td>NaN</td>\n",
              "    </tr>\n",
              "    <tr>\n",
              "      <th>296</th>\n",
              "      <td>2.749879</td>\n",
              "      <td>1.638817</td>\n",
              "      <td>NaN</td>\n",
              "    </tr>\n",
              "    <tr>\n",
              "      <th>297</th>\n",
              "      <td>0.170350</td>\n",
              "      <td>4.652000</td>\n",
              "      <td>NaN</td>\n",
              "    </tr>\n",
              "    <tr>\n",
              "      <th>298</th>\n",
              "      <td>1.178346</td>\n",
              "      <td>7.768928</td>\n",
              "      <td>NaN</td>\n",
              "    </tr>\n",
              "    <tr>\n",
              "      <th>299</th>\n",
              "      <td>-1.923734</td>\n",
              "      <td>2.665562</td>\n",
              "      <td>NaN</td>\n",
              "    </tr>\n",
              "  </tbody>\n",
              "</table>\n",
              "<p>300 rows × 3 columns</p>\n",
              "</div>"
            ],
            "text/plain": [
              "            x         y  Clusters\n",
              "0    0.227652  2.755707       NaN\n",
              "1   -1.496359  7.196705       NaN\n",
              "2    1.244684  5.497535       NaN\n",
              "3   -0.903797  7.804642       NaN\n",
              "4    0.879393  2.389981       NaN\n",
              "..        ...       ...       ...\n",
              "295  1.932913  1.920866       NaN\n",
              "296  2.749879  1.638817       NaN\n",
              "297  0.170350  4.652000       NaN\n",
              "298  1.178346  7.768928       NaN\n",
              "299 -1.923734  2.665562       NaN\n",
              "\n",
              "[300 rows x 3 columns]"
            ]
          },
          "metadata": {
            "tags": []
          },
          "execution_count": 3
        }
      ]
    },
    {
      "cell_type": "code",
      "metadata": {
        "id": "Qppuy3zxKqX7"
      },
      "source": [
        "# We define a function to randomly geenrate 'k' centroids from the dataframe 'df'\r\n",
        "# This function returns centroids dataframe which only contains the co-ordinates of the centroids\r\n",
        "\r\n",
        "def clustering(df,k):\r\n",
        "  centroids = df.sample(n=k)   #Select any k random points from the dataset\r\n",
        "  centroids = centroids.drop(columns='Clusters')    \r\n",
        "  return centroids"
      ],
      "execution_count": 15,
      "outputs": []
    },
    {
      "cell_type": "code",
      "metadata": {
        "id": "T1Hnk2o6PTH3"
      },
      "source": [
        "# This function asssigns each of data point to any one of the 'k' centroids\r\n",
        "\r\n",
        "def assigning_clusters(centroids,df):\r\n",
        "  for i in range(len(df)):         \r\n",
        "    sum = []\r\n",
        "    for j in range(len(centroids)):           \r\n",
        "      sum.append((df.iat[i,0]-centroids.iat[j,0])**2 + (df.iat[i,1]-centroids.iat[j,1])**2)        #Calculating distance from each of the centroids\r\n",
        "    df.iat[i, 2] = sum.index(min(sum))   #Assigning the point to that centroid from which the distance is minimum\r\n",
        "  return (df)"
      ],
      "execution_count": 16,
      "outputs": []
    },
    {
      "cell_type": "code",
      "metadata": {
        "id": "E8P1bcxuTuj4"
      },
      "source": [
        "# variance function is used to calculate the mean variance of all the datapoints\r\n",
        "\r\n",
        "def variance(df,centroids):\r\n",
        "  varaince_mean = sys.maxsize         #We initialize the varaince_mean with the maximum integer\r\n",
        "  # We now calulcate the variance for each of the datapoint. It is the square of the Euclidean distance between datapoint and its assigned centroid\r\n",
        "  for i in range(len(df)):            \r\n",
        "    varaince_mean = varaince_mean + (df.iat[i,0]-centroids.iat[int(df.iat[i,2]),0])**2 + (df.iat[i,1]-centroids.iat[int(df.iat[i,2]),1])**2\r\n",
        "  varaince_mean = varaince_mean/len(df)    #We caluclate the mean\r\n",
        "  return varaince_mean"
      ],
      "execution_count": 17,
      "outputs": []
    },
    {
      "cell_type": "code",
      "metadata": {
        "id": "9lyE1-bFVIKG"
      },
      "source": [
        "# Here, we integrate all the above defined functions into our final k_means\r\n",
        "\r\n",
        "def k_means(df,k):\r\n",
        "  centroids = clustering(df,k)                 #Randomly create the centroids\r\n",
        "  df = assigning_clusters(centroids,df)        #Assign the centroids\r\n",
        "  current_variance = variance(df,centroids)    #We caluclate the current varaince using the randomly assigned centroids\r\n",
        "  previous_variance = sys.maxsize              #for the first iteration, we just initialize the previous_variance to maximum integer\r\n",
        "  # In k means we have to iterate i.e. take the mean of the clusters until the variance starts to increase.\r\n",
        "  #  Hence we have compared the previous variance with the current one.\r\n",
        "  while (current_variance < previous_variance):\r\n",
        "    previous_variance = variance(df,centroids)\r\n",
        "    df = assigning_clusters(centroids,df)      #We form the clusters of datapoints\r\n",
        "    means = df.groupby('Clusters')             #We group the datapoints by clusters\r\n",
        "    centroids = means.mean()                   #The mean of the clusters so formed are the new centroids\r\n",
        "    current_variance = variance(df,centroids)  #The variance is calculated.\r\n",
        "  return centroids,df"
      ],
      "execution_count": 18,
      "outputs": []
    },
    {
      "cell_type": "code",
      "metadata": {
        "colab": {
          "base_uri": "https://localhost:8080/"
        },
        "id": "zDR_1EJvWVr6",
        "outputId": "8232b6d7-0ad8-4f31-dae1-27f0ec343d12"
      },
      "source": [
        "# We call the k_means function and print the dataframe with the updated clusters\r\n",
        "centers,dataframe = k_means(df,4)\r\n",
        "print(dataframe)"
      ],
      "execution_count": 19,
      "outputs": [
        {
          "output_type": "stream",
          "text": [
            "            x         y  Clusters\n",
            "0    0.227652  2.755707       1.0\n",
            "1   -1.496359  7.196705       3.0\n",
            "2    1.244684  5.497535       2.0\n",
            "3   -0.903797  7.804642       3.0\n",
            "4    0.879393  2.389981       1.0\n",
            "..        ...       ...       ...\n",
            "295  1.932913  1.920866       2.0\n",
            "296  2.749879  1.638817       2.0\n",
            "297  0.170350  4.652000       3.0\n",
            "298  1.178346  7.768928       2.0\n",
            "299 -1.923734  2.665562       0.0\n",
            "\n",
            "[300 rows x 3 columns]\n"
          ],
          "name": "stdout"
        }
      ]
    },
    {
      "cell_type": "code",
      "metadata": {
        "id": "ix-n4GSnej-s",
        "colab": {
          "base_uri": "https://localhost:8080/",
          "height": 282
        },
        "outputId": "05320a3d-3409-4b53-fcba-5721f2515608"
      },
      "source": [
        "#Plot the predicted classes and centroids of clusters\r\n",
        "plt.scatter(df['x'], df['y'],c=df['Clusters'])   #plotting the data points\r\n",
        "plt.scatter(centers['x'], centers['y'],color='red')   #plotting centres"
      ],
      "execution_count": 21,
      "outputs": [
        {
          "output_type": "execute_result",
          "data": {
            "text/plain": [
              "<matplotlib.collections.PathCollection at 0x7ff08a0a1c18>"
            ]
          },
          "metadata": {
            "tags": []
          },
          "execution_count": 21
        },
        {
          "output_type": "display_data",
          "data": {
            "image/png": "[encoded data removed]",
            "text/plain": [
              "<Figure size 432x288 with 1 Axes>"
            ]
          },
          "metadata": {
            "tags": [],
            "needs_background": "light"
          }
        }
      ]
    },
    {
      "cell_type": "code",
      "metadata": {
        "id": "xRRAxCQ7XbyW"
      },
      "source": [
        ""
      ],
      "execution_count": null,
      "outputs": []
    }
  ]
}